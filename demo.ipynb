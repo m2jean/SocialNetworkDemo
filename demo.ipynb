{
 "cells": [
  {
   "cell_type": "code",
   "execution_count": 9,
   "metadata": {},
   "outputs": [
    {
     "data": {
      "text/html": [
       "<script type=\"text/javascript\">window.PlotlyConfig = {MathJaxConfig: 'local'};</script><script type=\"text/javascript\">if (window.MathJax) {MathJax.Hub.Config({SVG: {font: \"STIX-Web\"}});}</script><script>requirejs.config({paths: { 'plotly': ['https://cdn.plot.ly/plotly-latest.min']},});if(!window._Plotly) {require(['plotly'],function(plotly) {window._Plotly=plotly;});}</script>"
      ],
      "text/vnd.plotly.v1+html": [
       "<script type=\"text/javascript\">window.PlotlyConfig = {MathJaxConfig: 'local'};</script><script type=\"text/javascript\">if (window.MathJax) {MathJax.Hub.Config({SVG: {font: \"STIX-Web\"}});}</script><script>requirejs.config({paths: { 'plotly': ['https://cdn.plot.ly/plotly-latest.min']},});if(!window._Plotly) {require(['plotly'],function(plotly) {window._Plotly=plotly;});}</script>"
      ]
     },
     "metadata": {},
     "output_type": "display_data"
    }
   ],
   "source": [
    "import pandas\n",
    "from pytz import timezone\n",
    "from datetime import datetime, timedelta\n",
    "from ipywidgets import interact, Dropdown\n",
    "from plotly.offline import download_plotlyjs,init_notebook_mode, iplot\n",
    "from plotly.graph_objs import Candlestick\n",
    "\n",
    "init_notebook_mode(connected=True)\n",
    "\n",
    "symbols = ['ES','TU','UB']\n",
    "periods = {\n",
    "'10 minutes': lambda dts: dts.floor('10T'),\n",
    "'5 minutes': lambda dts: dts.floor('5T'),\n",
    "'1 minute': lambda dts: dts.floor('1T'),\n",
    "'30 seconds': lambda dts: dts,\n",
    "}\n",
    "                                      \n",
    "events = pandas.read_csv('events.csv',names=['dt','curr','desc','imp','a','f','p','key'])\n",
    "events['dt'] = pandas.to_datetime(events['dt'],format=\"%Y-%m-%dT%H:%M:%S\").dt.tz_localize('UTC').dt.tz_convert(\"US/Central\").dt.tz_localize(None)\n",
    "grouped = events.groupby('key')"
   ]
  },
  {
   "cell_type": "code",
   "execution_count": 12,
   "metadata": {},
   "outputs": [],
   "source": [
    "def plot(data, event, groupfunc):\n",
    "    data.index = groupfunc(data.index)\n",
    "    ohlc = data.groupby(data.index).agg({'o':['first'],'h':['max'],'l':['min'],'c':['last']})\n",
    "    candles = Candlestick(x=ohlc.index\n",
    "                          ,open=ohlc['o']['first']\n",
    "                          ,high=ohlc['h']['max']\n",
    "                          ,low=ohlc['l']['min']\n",
    "                          ,close=ohlc['c']['last']\n",
    "                          ,whiskerwidth=1)\n",
    "    layout = {\n",
    "    'title':event.desc,\n",
    "    'shapes': [\n",
    "    {\n",
    "    'type': 'line', 'x0': event[0], 'y0': 0, 'x1': event[0], 'y1': 1,\n",
    "    'xref': 'x', 'yref': 'paper', 'line': {'color': 'rgb(0, 0, 255)'}\n",
    "    }\n",
    "    ]\n",
    "    }\n",
    "\n",
    "    return iplot({'data':[candles],'layout':layout})\n",
    "    \n",
    "df = None\n",
    "sym = None\n",
    "def load_data(symbol,dt,window=60): # window : one side window size in mins\n",
    "    global df, sym\n",
    "    if df is None or symbol != sym:\n",
    "        sym = symbol\n",
    "        df = pandas.read_hdf('ticks30s.h5',symbol.lower())\n",
    "    before = (dt - timedelta(minutes=window)).floor('D')\n",
    "    after = (dt + timedelta(minutes=window)).ceil('D')\n",
    "    return df[(before <= df.index) & (df.index <= after)].copy()\n",
    "\n",
    "def onSelectEvent(*args):\n",
    "    group = grouped.get_group(evdrop.value).set_index('dt')\n",
    "    dtstrs = group.index.strftime('%b %d %Y, %r')\n",
    "    dtdrop.value = None\n",
    "    dtdrop.options = reversed(list(zip(dtstrs, group.itertuples())))\n",
    "    \n",
    "def run(sb,pd,_,ev):\n",
    "    if ev is not None:\n",
    "        data = load_data(sb,ev[0])\n",
    "        ret = plot(data,ev,pd)\n",
    "        return ret"
   ]
  },
  {
   "cell_type": "code",
   "execution_count": 13,
   "metadata": {},
   "outputs": [
    {
     "data": {
      "application/vnd.jupyter.widget-view+json": {
       "model_id": "28dfa56393b04c1e84b36d493ff919ce",
       "version_major": 2,
       "version_minor": 0
      },
      "text/plain": [
       "interactive(children=(Dropdown(description='Security:', index=2, options=('ES', 'TU', 'UB'), value='UB'), Drop…"
      ]
     },
     "metadata": {},
     "output_type": "display_data"
    }
   ],
   "source": [
    "sbdrop = Dropdown(options=symbols,description=\"Security:\",value='UB')\n",
    "pddrop = Dropdown(options=periods,description=\"Period:\")\n",
    "evdrop = Dropdown(options=grouped.groups.keys(),description=\"Event:\",value=None);\n",
    "dtdrop = Dropdown(description=\"Date:\")\n",
    "evdrop.observe(onSelectEvent, 'value')\n",
    "\n",
    "_ = interact(run, sb=sbdrop, pd=pddrop, _=evdrop, ev=dtdrop)"
   ]
  },
  {
   "cell_type": "code",
   "execution_count": null,
   "metadata": {},
   "outputs": [],
   "source": []
  }
 ],
 "metadata": {
  "kernelspec": {
   "display_name": "Python 3",
   "language": "python",
   "name": "python3"
  },
  "language_info": {
   "codemirror_mode": {
    "name": "ipython",
    "version": 3
   },
   "file_extension": ".py",
   "mimetype": "text/x-python",
   "name": "python",
   "nbconvert_exporter": "python",
   "pygments_lexer": "ipython3",
   "version": "3.6.8"
  }
 },
 "nbformat": 4,
 "nbformat_minor": 2
}
