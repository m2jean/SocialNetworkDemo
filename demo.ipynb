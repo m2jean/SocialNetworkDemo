{
 "cells": [
  {
   "cell_type": "code",
   "execution_count": 22,
   "metadata": {},
   "outputs": [
    {
     "data": {
      "text/html": [
       "<script type=\"text/javascript\">window.PlotlyConfig = {MathJaxConfig: 'local'};</script><script type=\"text/javascript\">if (window.MathJax) {MathJax.Hub.Config({SVG: {font: \"STIX-Web\"}});}</script><script>requirejs.config({paths: { 'plotly': ['https://cdn.plot.ly/plotly-latest.min']},});if(!window._Plotly) {require(['plotly'],function(plotly) {window._Plotly=plotly;});}</script>"
      ],
      "text/vnd.plotly.v1+html": [
       "<script type=\"text/javascript\">window.PlotlyConfig = {MathJaxConfig: 'local'};</script><script type=\"text/javascript\">if (window.MathJax) {MathJax.Hub.Config({SVG: {font: \"STIX-Web\"}});}</script><script>requirejs.config({paths: { 'plotly': ['https://cdn.plot.ly/plotly-latest.min']},});if(!window._Plotly) {require(['plotly'],function(plotly) {window._Plotly=plotly;});}</script>"
      ]
     },
     "metadata": {},
     "output_type": "display_data"
    },
    {
     "data": {
      "application/vnd.jupyter.widget-view+json": {
       "model_id": "0c91668524194df5a74ed851ac02ebde",
       "version_major": 2,
       "version_minor": 0
      },
      "text/plain": [
       "interactive(children=(Dropdown(description='Security:', options=(('ES', ('es', 4, 2, 50, 1)), ('TU', ('tu', 25…"
      ]
     },
     "metadata": {},
     "output_type": "display_data"
    }
   ],
   "source": [
    "import data\n",
    "import plot\n",
    "from ipywidgets import interact, Dropdown, RadioButtons\n",
    "\n",
    "def run(sc,pd,_,ev,unit):\n",
    "    if ev is not None:\n",
    "        d = data.load_data(sc,ev[0],useDollar=unit)\n",
    "        ret = plot.plot(d,ev,pd,sc[4] if unit else sc[2])\n",
    "        return ret\n",
    "\n",
    "scdrop = Dropdown(options=data.securities,description=\"Security:\")\n",
    "pddrop = Dropdown(options=plot.periods,description=\"Period:\")\n",
    "evdrop = Dropdown(options=data.events.groups.keys(),description=\"Event:\",value=None);\n",
    "dtdrop = Dropdown(description=\"Date:\")\n",
    "unitradio = RadioButtons(\n",
    "    options=(('tick',False),('dollar',True)),\n",
    "    description='Price Unit:',\n",
    "    disabled=False\n",
    ")\n",
    "\n",
    "observer = plot.EventObserver(data.events,evdrop,dtdrop)\n",
    "evdrop.observe(observer.onSelectEvent, 'value')\n",
    "\n",
    "_ = interact(run, sc=scdrop, pd=pddrop, _=evdrop, ev=dtdrop, unit=unitradio)"
   ]
  },
  {
   "cell_type": "code",
   "execution_count": null,
   "metadata": {},
   "outputs": [],
   "source": []
  }
 ],
 "metadata": {
  "kernelspec": {
   "display_name": "Python 3",
   "language": "python",
   "name": "python3"
  },
  "language_info": {
   "codemirror_mode": {
    "name": "ipython",
    "version": 3
   },
   "file_extension": ".py",
   "mimetype": "text/x-python",
   "name": "python",
   "nbconvert_exporter": "python",
   "pygments_lexer": "ipython3",
   "version": "3.6.8"
  }
 },
 "nbformat": 4,
 "nbformat_minor": 2
}
